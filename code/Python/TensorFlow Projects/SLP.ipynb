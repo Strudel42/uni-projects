{
 "cells": [
  {
   "cell_type": "code",
   "execution_count": 1,
   "metadata": {},
   "outputs": [],
   "source": [
    "    %matplotlib inline"
   ]
  },
  {
   "cell_type": "code",
   "execution_count": 2,
   "metadata": {},
   "outputs": [],
   "source": [
    "import matplotlib.pyplot as plt\n",
    "import numpy as np"
   ]
  },
  {
   "cell_type": "code",
   "execution_count": 20,
   "metadata": {},
   "outputs": [],
   "source": [
    "#Data is a list of lists in the format of x coordinate,y coordinate,class\n",
    "\n",
    "data = [[3.2,  1.5, 1],\n",
    "        [2,   1,    0],\n",
    "        [4.1,  1.5, 1],\n",
    "        [2.75,  1,  0],\n",
    "        [3.56, .5,  1],\n",
    "        [2,   .5,   0],\n",
    "        [5.5,  1,   1],\n",
    "        [1,    1,   0],\n",
    "        [4,    1,   1],\n",
    "        [0,    0,   0],\n",
    "        [1,   0.5,  0]]\n",
    "\n",
    "rand_x = np.random.uniform(0,6)\n",
    "rand_y = np.random.uniform(0,2)\n",
    "mystery_point = [rand_x, rand_y]"
   ]
  },
  {
   "cell_type": "code",
   "execution_count": 21,
   "metadata": {},
   "outputs": [
    {
     "data": {
      "image/png": "[encoded data removed]",
      "text/plain": [
       "<Figure size 432x288 with 1 Axes>"
      ]
     },
     "metadata": {
      "needs_background": "light"
     },
     "output_type": "display_data"
    }
   ],
   "source": [
    "# scatter plot them\n",
    "def data_grid():\n",
    "    plt.grid()\n",
    "\n",
    "    for i in range(len(data)):\n",
    "        c = 'm'\n",
    "        if data[i][2] == 0:\n",
    "            c = 'y'\n",
    "        plt.scatter([data[i][0]], [data[i][1]], c=c)\n",
    "\n",
    "    plt.scatter([mystery_point[0]], [mystery_point[1]], c='k')\n",
    "\n",
    "plt.title(\"Scatter plot\")\n",
    "plt.xlabel(\"x\")\n",
    "plt.ylabel(\"y\")\n",
    "data_grid()"
   ]
  },
  {
   "cell_type": "code",
   "execution_count": 22,
   "metadata": {},
   "outputs": [],
   "source": [
    "def sigmoid(x):\n",
    "    return 1/(1+np.exp(-x))\n",
    "\n",
    "def sigmoid_dx(x):\n",
    "    return sigmoid(x) * (1-sigmoid(x))"
   ]
  },
  {
   "cell_type": "code",
   "execution_count": 31,
   "metadata": {},
   "outputs": [
    {
     "name": "stdout",
     "output_type": "stream",
     "text": [
      "w1 = 3.6503254464292083\n",
      "w2 = 0.731536749803176\n",
      "b = -11.708721507323466\n",
      "Minimum Loss value 0.08452908651269374  Locate at index 497  of loss valeus array\n"
     ]
    },
    {
     "data": {
      "image/png": "[encoded data removed]",
      "text/plain": [
       "<Figure size 432x288 with 1 Axes>"
      ]
     },
     "metadata": {
      "needs_background": "light"
     },
     "output_type": "display_data"
    }
   ],
   "source": [
    "def train():\n",
    "    #random init of weights\n",
    "    w1 = np.random.randn()\n",
    "    w2 = np.random.randn()\n",
    "    b = np.random.randn()\n",
    "    \n",
    "    iterations = 50000\n",
    "    learning_rate = 0.1\n",
    "    loss_values = [] # keep loss values during training, to see if they go down\n",
    "    \n",
    "    for i in range(iterations):\n",
    "        # get a random point\n",
    "        ri = np.random.randint(len(data))\n",
    "        point = data[ri]\n",
    "        \n",
    "        z = point[0] * w1 + point[1] * w2 + b\n",
    "        pred = sigmoid(z) # predicted value\n",
    "        \n",
    "        target = point[2] # actual value of label\n",
    "        \n",
    "        # MSE for point\n",
    "        loss = 0.5*np.square(pred - target)\n",
    "        \n",
    "        # Append the loss over all data points every 1000 iterrations\n",
    "        if i % 100 == 0:\n",
    "            c = 0\n",
    "            for j in range(len(data)):\n",
    "                p = data[j]\n",
    "                p_pred = sigmoid(w1 * p[0] + w2 * p[1] + b)\n",
    "                c += 0.5*np.square(p_pred - p[2])\n",
    "            loss_values.append(c)\n",
    "        \n",
    "        dloss_dpred = (pred - target) # differentiate 0.5 * (y_p - y_a)^2 -> y_p - y_a\n",
    "        dpred_dz = sigmoid_dx(z)\n",
    "        \n",
    "        dz_dw1 = point[0]\n",
    "        dz_dw2 = point[1]\n",
    "        dz_db = 1\n",
    "        \n",
    "        dloss_dz = dloss_dpred * dpred_dz\n",
    "        \n",
    "        dloss_dw1 = dloss_dz * dz_dw1\n",
    "        dloss_dw2 = dloss_dz * dz_dw2\n",
    "        dloss_db = dloss_dz * dz_db\n",
    "        \n",
    "        w1 = w1 - learning_rate * dloss_dw1\n",
    "        w2 = w2 - learning_rate * dloss_dw2\n",
    "        b = b - learning_rate * dloss_db\n",
    "        \n",
    "    return loss_values, w1, w2, b\n",
    "\n",
    "loss_values, w1, w2, b = train()\n",
    "\n",
    "fig = plt.plot(loss_values),plt.title(\"Loss Curve\"),plt.xlabel(\"Itterations\"),plt.ylabel(\"Loss\")\n",
    "print(\"w1 =\",w1)\n",
    "print(\"w2 =\",w2)\n",
    "print(\"b =\",b)\n",
    "print(\"Minimum Loss value\",np.min(loss_values),\" Locate at index\",np.argmin(loss_values),\" of loss valeus array\")"
   ]
  },
  {
   "cell_type": "code",
   "execution_count": 19,
   "metadata": {},
   "outputs": [
    {
     "name": "stdout",
     "output_type": "stream",
     "text": [
      "Our mystery point has a value of:  0.03026703542597249  therefore it's class is most likely 0\n"
     ]
    },
    {
     "data": {
      "image/png": "[encoded data removed]",
      "text/plain": [
       "<Figure size 432x288 with 1 Axes>"
      ]
     },
     "metadata": {
      "needs_background": "light"
     },
     "output_type": "display_data"
    }
   ],
   "source": [
    "# check out the networks predictions in the x,y plane\n",
    "for x in np.linspace(0, 6, 45):\n",
    "    for y in np.linspace(0, 3, 45):\n",
    "        pred = sigmoid(w1 * x + w2 * y + b)\n",
    "        c = 'y'\n",
    "        if pred > .5:\n",
    "            c = 'm'\n",
    "        plt.scatter([x],[y],c=c, alpha=.2)\n",
    "        \n",
    "plt.title(\"Boundary of classes\")\n",
    "plt.xlabel(\"x\")\n",
    "plt.ylabel(\"y\")\n",
    "# Plot points over network predictions\n",
    "# What we can see here is our decision boundary between tellow and magenta points\n",
    "data_grid()\n",
    "z = w1 * mystery_point[0] + w2 * mystery_point[1] + b\n",
    "point_prediciton =  sigmoid(z)\n",
    "if point_prediciton > 0.5:\n",
    "    print(\"Our mystery point has a value of: \",point_prediciton,\" therefore it's class is most likely 1\")\n",
    "else:\n",
    "    print(\"Our mystery point has a value of: \",point_prediciton,\" therefore it's class is most likely 0\")"
   ]
  },
  {
   "cell_type": "code",
   "execution_count": null,
   "metadata": {},
   "outputs": [],
   "source": []
  }
 ],
 "metadata": {
  "kernelspec": {
   "display_name": "Python 3",
   "language": "python",
   "name": "python3"
  },
  "language_info": {
   "codemirror_mode": {
    "name": "ipython",
    "version": 3
   },
   "file_extension": ".py",
   "mimetype": "text/x-python",
   "name": "python",
   "nbconvert_exporter": "python",
   "pygments_lexer": "ipython3",
   "version": "3.6.6"
  }
 },
 "nbformat": 4,
 "nbformat_minor": 4
}
